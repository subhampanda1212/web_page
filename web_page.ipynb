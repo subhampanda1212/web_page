{
 "cells": [
  {
   "cell_type": "code",
   "execution_count": 71,
   "metadata": {},
   "outputs": [],
   "source": [
    "import warnings\n",
    "warnings.filterwarnings('ignore')\n",
    "import ipywidgets as widgets\n",
    "from IPython.display import display, clear_output\n",
    "\n",
    "#!jupyter nbextension enable --py widgetsnbextension --sys-prefix\n",
    "#!jupyter serverextension enable voila --sys-prefix\n",
    "#!jupyter serverextension enable voila --debug"
   ]
  },
  {
   "cell_type": "code",
   "execution_count": 72,
   "metadata": {},
   "outputs": [],
   "source": [
    "# button send\n",
    "\n",
    "\n",
    "button_send = widgets.Button(\n",
    "                description='select',\n",
    "                tooltip='Send',\n",
    "                style={'description_width': 'initial'}\n",
    "            )\n",
    "\n",
    "output = widgets.Output()\n",
    "\n",
    "def on_button_clicked(event):\n",
    "    with output:\n",
    "        widgets.FileUpload(\n",
    "        accept='.jpeg' and '.png',  # Accepted file extension e.g. '.txt', '.pdf', 'image/*', 'image/*,.pdf'\n",
    "        multiple=False  # True to accept multiple files upload else False\n",
    "        )\n",
    "        uploader = widgets.FileUpload()\n",
    "        display(uploader)\n",
    "button_send.on_click(on_button_clicked)\n",
    "\n",
    "vbox_result1 = widgets.VBox([button_send, output])\n",
    "\n",
    "button_send2 = widgets.Button(\n",
    "                description='my links',\n",
    "                tooltip='Send',\n",
    "                style={'description_width': 'initial'}\n",
    "            )\n",
    "\n",
    "output2 = widgets.Output()\n",
    "\n",
    "def on_button_clicked2(event):\n",
    "    with output2:\n",
    "        uploader = widgets.FileUpload()\n",
    "        display(uploader)\n",
    "        uploader.value\n",
    "   \n",
    "        uploaded_file = uploader.value\n",
    "#        uploaded_file[\"size\"]\n",
    "#=> 36\n",
    "#        uploaded_file.size\n",
    "#=> 36\n",
    "button_send2.on_click(on_button_clicked2)\n",
    "\n",
    "vbox_result2 = widgets.VBox([button_send2, output2])"
   ]
  },
  {
   "cell_type": "code",
   "execution_count": 75,
   "metadata": {},
   "outputs": [
    {
     "data": {
      "application/vnd.jupyter.widget-view+json": {
       "model_id": "1ce9e769989f4934a558f301fcf8df85",
       "version_major": 2,
       "version_minor": 0
      },
      "text/plain": [
       "HBox(children=(VBox(children=(Button(description='select', style=ButtonStyle(), tooltip='Send'), Output())), V…"
      ]
     },
     "metadata": {},
     "output_type": "display_data"
    }
   ],
   "source": [
    "page = widgets.HBox([vbox_result1,vbox_result2])\n",
    "display(page)"
   ]
  },
  {
   "cell_type": "code",
   "execution_count": 74,
   "metadata": {},
   "outputs": [],
   "source": [
    "!pip freeze > requirements.txt"
   ]
  },
  {
   "cell_type": "code",
   "execution_count": null,
   "metadata": {},
   "outputs": [],
   "source": []
  }
 ],
 "metadata": {
  "kernelspec": {
   "display_name": "Python 3",
   "language": "python",
   "name": "python3"
  },
  "language_info": {
   "codemirror_mode": {
    "name": "ipython",
    "version": 3
   },
   "file_extension": ".py",
   "mimetype": "text/x-python",
   "name": "python",
   "nbconvert_exporter": "python",
   "pygments_lexer": "ipython3",
   "version": "3.7.6"
  }
 },
 "nbformat": 4,
 "nbformat_minor": 4
}
